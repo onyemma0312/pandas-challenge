{
 "cells": [
  {
   "cell_type": "markdown",
   "metadata": {},
   "source": [
    "### Note\n",
    "* Instructions have been included for each segment. You do not have to follow them exactly, but they are included to help you think through the steps."
   ]
  },
  {
   "cell_type": "code",
   "execution_count": 15,
   "metadata": {},
   "outputs": [],
   "source": [
    "# Dependencies and Setup\n",
    "import pandas as pd\n",
    "import numpy as np\n",
    "\n",
    "# File to Load (Remember to Change These)\n",
    "pymoli_file = \"Resources/purchase_data.csv\"\n",
    "\n",
    "# Read Purchasing File and store into Pandas data frame\n",
    "pymoli_df = pd.read_csv(pymoli_file)"
   ]
  },
  {
   "cell_type": "markdown",
   "metadata": {},
   "source": [
    "## Player Count"
   ]
  },
  {
   "cell_type": "markdown",
   "metadata": {},
   "source": [
    "* Display the total number of players\n"
   ]
  },
  {
   "cell_type": "code",
   "execution_count": 16,
   "metadata": {},
   "outputs": [
    {
     "name": "stdout",
     "output_type": "stream",
     "text": [
      "Total number of players: 576\n"
     ]
    }
   ],
   "source": [
    "total_players = pymoli_df[\"SN\"].nunique() #I prefer to use this method to quickly eliminate any Nan if there is any\n",
    "#total_players = len(pymoli_df['SN'].unique()) we can also us this\n",
    "print('Total number of players:', total_players)\n"
   ]
  },
  {
   "cell_type": "markdown",
   "metadata": {},
   "source": [
    "## Purchasing Analysis (Total)"
   ]
  },
  {
   "cell_type": "markdown",
   "metadata": {},
   "source": [
    "* Run basic calculations to obtain number of unique items, average price, etc.\n",
    "\n",
    "\n",
    "* Create a summary data frame to hold the results\n",
    "\n",
    "\n",
    "* Optional: give the displayed data cleaner formatting\n",
    "\n",
    "\n",
    "* Display the summary data frame\n"
   ]
  },
  {
   "cell_type": "code",
   "execution_count": 17,
   "metadata": {
    "scrolled": true
   },
   "outputs": [
    {
     "data": {
      "text/html": [
       "<style  type=\"text/css\" >\n",
       "</style><table id=\"T_d7f1ec3a_1eeb_11ea_ac3b_d4d2529c4964\" ><thead>    <tr>        <th class=\"blank level0\" ></th>        <th class=\"col_heading level0 col0\" >Number of Unique Items</th>        <th class=\"col_heading level0 col1\" >Average Price</th>        <th class=\"col_heading level0 col2\" >Number of Purchases</th>        <th class=\"col_heading level0 col3\" >Total Revenue</th>    </tr></thead><tbody>\n",
       "                <tr>\n",
       "                        <th id=\"T_d7f1ec3a_1eeb_11ea_ac3b_d4d2529c4964level0_row0\" class=\"row_heading level0 row0\" >0</th>\n",
       "                        <td id=\"T_d7f1ec3a_1eeb_11ea_ac3b_d4d2529c4964row0_col0\" class=\"data row0 col0\" >183</td>\n",
       "                        <td id=\"T_d7f1ec3a_1eeb_11ea_ac3b_d4d2529c4964row0_col1\" class=\"data row0 col1\" >$3.05</td>\n",
       "                        <td id=\"T_d7f1ec3a_1eeb_11ea_ac3b_d4d2529c4964row0_col2\" class=\"data row0 col2\" >780</td>\n",
       "                        <td id=\"T_d7f1ec3a_1eeb_11ea_ac3b_d4d2529c4964row0_col3\" class=\"data row0 col3\" >$2,379.77</td>\n",
       "            </tr>\n",
       "    </tbody></table>"
      ],
      "text/plain": [
       "<pandas.io.formats.style.Styler at 0x1efd524b688>"
      ]
     },
     "execution_count": 17,
     "metadata": {},
     "output_type": "execute_result"
    }
   ],
   "source": [
    "# Run basic calculations to obtain number of unique items, average price, etc\n",
    "number_of_unique_items = pymoli_df[\"Item ID\"].nunique()\n",
    "average_price = (pymoli_df[\"Price\"]).mean()\n",
    "number_of_purchases = (pymoli_df[\"Purchase ID\"]).count()\n",
    "total_revenue = (pymoli_df[\"Price\"]).sum()\n",
    "\n",
    "# Create a summary data frame to hold the results\n",
    "summary_df = pd.DataFrame({\"Number of Unique Items\":[number_of_unique_items],\n",
    "                           \"Average Price\":[average_price], \n",
    "                           \"Number of Purchases\": [number_of_purchases], \n",
    "                           \"Total Revenue\": [total_revenue]})\n",
    "\n",
    "# Display the summary data frame\n",
    "summary_df.style.format({'Average Price':\"${:,.2f}\",\n",
    "                         'Total Revenue': '${:,.2f}'})"
   ]
  },
  {
   "cell_type": "markdown",
   "metadata": {},
   "source": [
    "## Gender Demographics"
   ]
  },
  {
   "cell_type": "markdown",
   "metadata": {},
   "source": [
    "* Percentage and Count of Male Players\n",
    "\n",
    "\n",
    "* Percentage and Count of Female Players\n",
    "\n",
    "\n",
    "* Percentage and Count of Other / Non-Disclosed\n",
    "\n"
   ]
  },
  {
   "cell_type": "code",
   "execution_count": 18,
   "metadata": {},
   "outputs": [
    {
     "data": {
      "text/html": [
       "<style  type=\"text/css\" >\n",
       "</style><table id=\"T_d876d1be_1eeb_11ea_822a_d4d2529c4964\" ><thead>    <tr>        <th class=\"blank level0\" ></th>        <th class=\"col_heading level0 col0\" >Total Count</th>        <th class=\"col_heading level0 col1\" >Percentage of Players</th>    </tr>    <tr>        <th class=\"index_name level0\" >Gender</th>        <th class=\"blank\" ></th>        <th class=\"blank\" ></th>    </tr></thead><tbody>\n",
       "                <tr>\n",
       "                        <th id=\"T_d876d1be_1eeb_11ea_822a_d4d2529c4964level0_row0\" class=\"row_heading level0 row0\" >Male</th>\n",
       "                        <td id=\"T_d876d1be_1eeb_11ea_822a_d4d2529c4964row0_col0\" class=\"data row0 col0\" >484</td>\n",
       "                        <td id=\"T_d876d1be_1eeb_11ea_822a_d4d2529c4964row0_col1\" class=\"data row0 col1\" >84.03%</td>\n",
       "            </tr>\n",
       "            <tr>\n",
       "                        <th id=\"T_d876d1be_1eeb_11ea_822a_d4d2529c4964level0_row1\" class=\"row_heading level0 row1\" >Female</th>\n",
       "                        <td id=\"T_d876d1be_1eeb_11ea_822a_d4d2529c4964row1_col0\" class=\"data row1 col0\" >81</td>\n",
       "                        <td id=\"T_d876d1be_1eeb_11ea_822a_d4d2529c4964row1_col1\" class=\"data row1 col1\" >14.06%</td>\n",
       "            </tr>\n",
       "            <tr>\n",
       "                        <th id=\"T_d876d1be_1eeb_11ea_822a_d4d2529c4964level0_row2\" class=\"row_heading level0 row2\" >Other / Non-Disclosed</th>\n",
       "                        <td id=\"T_d876d1be_1eeb_11ea_822a_d4d2529c4964row2_col0\" class=\"data row2 col0\" >11</td>\n",
       "                        <td id=\"T_d876d1be_1eeb_11ea_822a_d4d2529c4964row2_col1\" class=\"data row2 col1\" >1.91%</td>\n",
       "            </tr>\n",
       "    </tbody></table>"
      ],
      "text/plain": [
       "<pandas.io.formats.style.Styler at 0x1efd57428c8>"
      ]
     },
     "execution_count": 18,
     "metadata": {},
     "output_type": "execute_result"
    }
   ],
   "source": [
    "\n",
    "# Percentage and Count of Male Players\n",
    "gender = pymoli_df.groupby(\"Gender\")\n",
    "\n",
    "# Count the total of screen names \"SN\" by gender\n",
    "total_gender = gender.nunique()[\"SN\"]\n",
    "\n",
    "# Total count by gender and divivde by total players \n",
    "percentage_of_players = total_gender / total_players * 100\n",
    "\n",
    "# Create data frame with obtained values\n",
    "gender_demographics = pd.DataFrame({\"Total Count\": total_gender, \"Percentage of Players\": percentage_of_players})\n",
    "\n",
    "# Format the values sorted by total count in descending order, and two decimal places for the percentage\n",
    "gender_demographics.sort_values([\"Total Count\"], ascending = False).style.format({\"Percentage of Players\":\"{:.2f}%\"})"
   ]
  },
  {
   "cell_type": "markdown",
   "metadata": {},
   "source": [
    "\n",
    "## Purchasing Analysis (Gender)"
   ]
  },
  {
   "cell_type": "markdown",
   "metadata": {},
   "source": [
    "* Run basic calculations to obtain purchase count, avg. purchase price, avg. purchase total per person etc. by gender\n",
    "\n",
    "\n",
    "\n",
    "\n",
    "* Create a summary data frame to hold the results\n",
    "\n",
    "\n",
    "* Optional: give the displayed data cleaner formatting\n",
    "\n",
    "\n",
    "* Display the summary data frame"
   ]
  },
  {
   "cell_type": "code",
   "execution_count": 19,
   "metadata": {},
   "outputs": [
    {
     "data": {
      "text/html": [
       "<div>\n",
       "<style scoped>\n",
       "    .dataframe tbody tr th:only-of-type {\n",
       "        vertical-align: middle;\n",
       "    }\n",
       "\n",
       "    .dataframe tbody tr th {\n",
       "        vertical-align: top;\n",
       "    }\n",
       "\n",
       "    .dataframe thead th {\n",
       "        text-align: right;\n",
       "    }\n",
       "</style>\n",
       "<table border=\"1\" class=\"dataframe\">\n",
       "  <thead>\n",
       "    <tr style=\"text-align: right;\">\n",
       "      <th></th>\n",
       "      <th>Purchase Count</th>\n",
       "      <th>Average Purchase Price</th>\n",
       "      <th>Average Purchase Value</th>\n",
       "      <th>Avg Purchase Total per Person</th>\n",
       "    </tr>\n",
       "    <tr>\n",
       "      <th>Gender</th>\n",
       "      <th></th>\n",
       "      <th></th>\n",
       "      <th></th>\n",
       "      <th></th>\n",
       "    </tr>\n",
       "  </thead>\n",
       "  <tbody>\n",
       "    <tr>\n",
       "      <td>Female</td>\n",
       "      <td>113</td>\n",
       "      <td>$3.20</td>\n",
       "      <td>$361.94</td>\n",
       "      <td>$4.47</td>\n",
       "    </tr>\n",
       "    <tr>\n",
       "      <td>Male</td>\n",
       "      <td>652</td>\n",
       "      <td>$3.02</td>\n",
       "      <td>$1967.64</td>\n",
       "      <td>$4.07</td>\n",
       "    </tr>\n",
       "    <tr>\n",
       "      <td>Other / Non-Disclosed</td>\n",
       "      <td>15</td>\n",
       "      <td>$3.35</td>\n",
       "      <td>$50.19</td>\n",
       "      <td>$4.56</td>\n",
       "    </tr>\n",
       "  </tbody>\n",
       "</table>\n",
       "</div>"
      ],
      "text/plain": [
       "                       Purchase Count Average Purchase Price  \\\n",
       "Gender                                                         \n",
       "Female                            113                  $3.20   \n",
       "Male                              652                  $3.02   \n",
       "Other / Non-Disclosed              15                  $3.35   \n",
       "\n",
       "                      Average Purchase Value Avg Purchase Total per Person  \n",
       "Gender                                                                      \n",
       "Female                               $361.94                         $4.47  \n",
       "Male                                $1967.64                         $4.07  \n",
       "Other / Non-Disclosed                 $50.19                         $4.56  "
      ]
     },
     "execution_count": 19,
     "metadata": {},
     "output_type": "execute_result"
    }
   ],
   "source": [
    "# total purchase count by gender \n",
    "purch_count = gender[\"Purchase ID\"].count()\n",
    "\n",
    "#Run basic calculations to obtain purchase count, avg. purchase price, avg. purchase total per person etc. by gender\n",
    "# purchase price by gender on average\n",
    "purch_price_avg = gender[\"Price\"].mean()\n",
    "# purchase total by gender \n",
    "purch_total_avg = gender[\"Price\"].sum()\n",
    "# average purchase total by gender divivded by purchase count by unique shoppers\n",
    "purch_per_person_avg = purch_total_avg/total_gender\n",
    "\n",
    "# Create a summary data frame to hold the results\n",
    "purchase_gen_data = pd.DataFrame({\"Purchase Count\": purch_count, \n",
    "                                    \"Average Purchase Price\": purch_price_avg,\n",
    "                                    \"Average Purchase Value\":purch_total_avg,\n",
    "                                    \"Avg Purchase Total per Person\": purch_per_person_avg})\n",
    "\n",
    "# Display the summary data frame\n",
    "purchase_gen_data[\"Average Purchase Price\"] = purchase_gen_data[\"Average Purchase Price\"].map(\"${:.2f}\".format)\n",
    "purchase_gen_data[\"Average Purchase Value\"] = purchase_gen_data[\"Average Purchase Value\"].map(\"${:.2f}\".format)\n",
    "purchase_gen_data[\"Avg Purchase Total per Person\"] = purchase_gen_data[\"Avg Purchase Total per Person\"].map(\"${:.2f}\".format)\n",
    "purchase_gen_data = purchase_gen_data[[\"Purchase Count\", \"Average Purchase Price\", \"Average Purchase Value\", \"Avg Purchase Total per Person\"]]\n",
    "purchase_gen_data"
   ]
  },
  {
   "cell_type": "markdown",
   "metadata": {},
   "source": [
    "## Age Demographics"
   ]
  },
  {
   "cell_type": "markdown",
   "metadata": {},
   "source": [
    "* Establish bins for ages\n",
    "\n",
    "\n",
    "* Categorize the existing players using the age bins. Hint: use pd.cut()\n",
    "\n",
    "\n",
    "* Calculate the numbers and percentages by age group\n",
    "\n",
    "\n",
    "* Create a summary data frame to hold the results\n",
    "\n",
    "\n",
    "* Optional: round the percentage column to two decimal points\n",
    "\n",
    "\n",
    "* Display Age Demographics Table\n"
   ]
  },
  {
   "cell_type": "code",
   "execution_count": 20,
   "metadata": {},
   "outputs": [
    {
     "data": {
      "text/html": [
       "<style  type=\"text/css\" >\n",
       "</style><table id=\"T_d99e8882_1eeb_11ea_9014_d4d2529c4964\" ><thead>    <tr>        <th class=\"blank level0\" ></th>        <th class=\"col_heading level0 col0\" >Total Count</th>        <th class=\"col_heading level0 col1\" >Percentage of Players</th>    </tr>    <tr>        <th class=\"index_name level0\" >Age Group</th>        <th class=\"blank\" ></th>        <th class=\"blank\" ></th>    </tr></thead><tbody>\n",
       "                <tr>\n",
       "                        <th id=\"T_d99e8882_1eeb_11ea_9014_d4d2529c4964level0_row0\" class=\"row_heading level0 row0\" >Under 10</th>\n",
       "                        <td id=\"T_d99e8882_1eeb_11ea_9014_d4d2529c4964row0_col0\" class=\"data row0 col0\" >17</td>\n",
       "                        <td id=\"T_d99e8882_1eeb_11ea_9014_d4d2529c4964row0_col1\" class=\"data row0 col1\" >2.95</td>\n",
       "            </tr>\n",
       "            <tr>\n",
       "                        <th id=\"T_d99e8882_1eeb_11ea_9014_d4d2529c4964level0_row1\" class=\"row_heading level0 row1\" >10 - 14</th>\n",
       "                        <td id=\"T_d99e8882_1eeb_11ea_9014_d4d2529c4964row1_col0\" class=\"data row1 col0\" >22</td>\n",
       "                        <td id=\"T_d99e8882_1eeb_11ea_9014_d4d2529c4964row1_col1\" class=\"data row1 col1\" >3.82</td>\n",
       "            </tr>\n",
       "            <tr>\n",
       "                        <th id=\"T_d99e8882_1eeb_11ea_9014_d4d2529c4964level0_row2\" class=\"row_heading level0 row2\" >15 - 19</th>\n",
       "                        <td id=\"T_d99e8882_1eeb_11ea_9014_d4d2529c4964row2_col0\" class=\"data row2 col0\" >107</td>\n",
       "                        <td id=\"T_d99e8882_1eeb_11ea_9014_d4d2529c4964row2_col1\" class=\"data row2 col1\" >18.58</td>\n",
       "            </tr>\n",
       "            <tr>\n",
       "                        <th id=\"T_d99e8882_1eeb_11ea_9014_d4d2529c4964level0_row3\" class=\"row_heading level0 row3\" >20 - 24</th>\n",
       "                        <td id=\"T_d99e8882_1eeb_11ea_9014_d4d2529c4964row3_col0\" class=\"data row3 col0\" >258</td>\n",
       "                        <td id=\"T_d99e8882_1eeb_11ea_9014_d4d2529c4964row3_col1\" class=\"data row3 col1\" >44.79</td>\n",
       "            </tr>\n",
       "            <tr>\n",
       "                        <th id=\"T_d99e8882_1eeb_11ea_9014_d4d2529c4964level0_row4\" class=\"row_heading level0 row4\" >25 - 29</th>\n",
       "                        <td id=\"T_d99e8882_1eeb_11ea_9014_d4d2529c4964row4_col0\" class=\"data row4 col0\" >77</td>\n",
       "                        <td id=\"T_d99e8882_1eeb_11ea_9014_d4d2529c4964row4_col1\" class=\"data row4 col1\" >13.37</td>\n",
       "            </tr>\n",
       "            <tr>\n",
       "                        <th id=\"T_d99e8882_1eeb_11ea_9014_d4d2529c4964level0_row5\" class=\"row_heading level0 row5\" >30 - 34</th>\n",
       "                        <td id=\"T_d99e8882_1eeb_11ea_9014_d4d2529c4964row5_col0\" class=\"data row5 col0\" >52</td>\n",
       "                        <td id=\"T_d99e8882_1eeb_11ea_9014_d4d2529c4964row5_col1\" class=\"data row5 col1\" >9.03</td>\n",
       "            </tr>\n",
       "            <tr>\n",
       "                        <th id=\"T_d99e8882_1eeb_11ea_9014_d4d2529c4964level0_row6\" class=\"row_heading level0 row6\" >35 - 39</th>\n",
       "                        <td id=\"T_d99e8882_1eeb_11ea_9014_d4d2529c4964row6_col0\" class=\"data row6 col0\" >31</td>\n",
       "                        <td id=\"T_d99e8882_1eeb_11ea_9014_d4d2529c4964row6_col1\" class=\"data row6 col1\" >5.38</td>\n",
       "            </tr>\n",
       "            <tr>\n",
       "                        <th id=\"T_d99e8882_1eeb_11ea_9014_d4d2529c4964level0_row7\" class=\"row_heading level0 row7\" >Over 40</th>\n",
       "                        <td id=\"T_d99e8882_1eeb_11ea_9014_d4d2529c4964row7_col0\" class=\"data row7 col0\" >12</td>\n",
       "                        <td id=\"T_d99e8882_1eeb_11ea_9014_d4d2529c4964row7_col1\" class=\"data row7 col1\" >2.08</td>\n",
       "            </tr>\n",
       "    </tbody></table>"
      ],
      "text/plain": [
       "<pandas.io.formats.style.Styler at 0x1efd4da9808>"
      ]
     },
     "execution_count": 20,
     "metadata": {},
     "output_type": "execute_result"
    }
   ],
   "source": [
    "# Binning\n",
    "bins = [0, 9.90, 14.90, 19.90, 24.90, 29.90, 34.90, 39.90, 99999]\n",
    "#Establish bins for ages\n",
    "segment = ['Under 10', '10 - 14', '15 - 19', '20 - 24', '25 - 29', '30 - 34', '35 - 39', 'Over 40']\n",
    "\n",
    "# Categorize the existing players using the age bins. Hint: use pd.cut()\n",
    "pymoli_df[\"Age Group\"] = pd.cut(pymoli_df[\"Age\"],bins, labels=segment)\n",
    "pymoli_df\n",
    "\n",
    "#Calculate the numbers and percentages by age group\n",
    "\n",
    "# Create new data frame and group by \"Age Group\"\n",
    "age_group = pymoli_df.groupby(\"Age Group\")\n",
    "# Count total players by age category\n",
    "count_age = age_group[\"SN\"].nunique()\n",
    "# Calculate percentages by age category \n",
    "percentage_by_age = (count_age/total_players) * 100\n",
    "\n",
    "# Create data frame with obtained values\n",
    "age_distr = pd.DataFrame({\"Total Count\": count_age, \"Percentage of Players\": percentage_by_age})\n",
    "\n",
    "# Format percentage with two decimal places \n",
    "age_distr.style.format({\"Percentage of Players\":\"{:,.2f}\"})\n"
   ]
  },
  {
   "cell_type": "markdown",
   "metadata": {},
   "source": [
    "## Purchasing Analysis (Age)"
   ]
  },
  {
   "cell_type": "markdown",
   "metadata": {},
   "source": [
    "* Bin the purchase_data data frame by age\n",
    "\n",
    "\n",
    "* Run basic calculations to obtain purchase count, avg. purchase price, avg. purchase total per person etc. in the table below\n",
    "\n",
    "\n",
    "* Create a summary data frame to hold the results\n",
    "\n",
    "\n",
    "* Optional: give the displayed data cleaner formatting\n",
    "\n",
    "\n",
    "* Display the summary data frame"
   ]
  },
  {
   "cell_type": "code",
   "execution_count": 21,
   "metadata": {},
   "outputs": [
    {
     "data": {
      "text/html": [
       "<style  type=\"text/css\" >\n",
       "</style><table id=\"T_da4a5352_1eeb_11ea_bda7_d4d2529c4964\" ><thead>    <tr>        <th class=\"blank level0\" ></th>        <th class=\"col_heading level0 col0\" >Purchase Count</th>        <th class=\"col_heading level0 col1\" >Average Purchase Price</th>        <th class=\"col_heading level0 col2\" >Total Purchase Value</th>        <th class=\"col_heading level0 col3\" >Average Purchase Total per Person</th>    </tr>    <tr>        <th class=\"index_name level0\" >Age Group</th>        <th class=\"blank\" ></th>        <th class=\"blank\" ></th>        <th class=\"blank\" ></th>        <th class=\"blank\" ></th>    </tr></thead><tbody>\n",
       "                <tr>\n",
       "                        <th id=\"T_da4a5352_1eeb_11ea_bda7_d4d2529c4964level0_row0\" class=\"row_heading level0 row0\" >Under 10</th>\n",
       "                        <td id=\"T_da4a5352_1eeb_11ea_bda7_d4d2529c4964row0_col0\" class=\"data row0 col0\" >23</td>\n",
       "                        <td id=\"T_da4a5352_1eeb_11ea_bda7_d4d2529c4964row0_col1\" class=\"data row0 col1\" >$3.35</td>\n",
       "                        <td id=\"T_da4a5352_1eeb_11ea_bda7_d4d2529c4964row0_col2\" class=\"data row0 col2\" >$77.13</td>\n",
       "                        <td id=\"T_da4a5352_1eeb_11ea_bda7_d4d2529c4964row0_col3\" class=\"data row0 col3\" >$4.54</td>\n",
       "            </tr>\n",
       "            <tr>\n",
       "                        <th id=\"T_da4a5352_1eeb_11ea_bda7_d4d2529c4964level0_row1\" class=\"row_heading level0 row1\" >10 - 14</th>\n",
       "                        <td id=\"T_da4a5352_1eeb_11ea_bda7_d4d2529c4964row1_col0\" class=\"data row1 col0\" >28</td>\n",
       "                        <td id=\"T_da4a5352_1eeb_11ea_bda7_d4d2529c4964row1_col1\" class=\"data row1 col1\" >$2.96</td>\n",
       "                        <td id=\"T_da4a5352_1eeb_11ea_bda7_d4d2529c4964row1_col2\" class=\"data row1 col2\" >$82.78</td>\n",
       "                        <td id=\"T_da4a5352_1eeb_11ea_bda7_d4d2529c4964row1_col3\" class=\"data row1 col3\" >$3.76</td>\n",
       "            </tr>\n",
       "            <tr>\n",
       "                        <th id=\"T_da4a5352_1eeb_11ea_bda7_d4d2529c4964level0_row2\" class=\"row_heading level0 row2\" >15 - 19</th>\n",
       "                        <td id=\"T_da4a5352_1eeb_11ea_bda7_d4d2529c4964row2_col0\" class=\"data row2 col0\" >136</td>\n",
       "                        <td id=\"T_da4a5352_1eeb_11ea_bda7_d4d2529c4964row2_col1\" class=\"data row2 col1\" >$3.04</td>\n",
       "                        <td id=\"T_da4a5352_1eeb_11ea_bda7_d4d2529c4964row2_col2\" class=\"data row2 col2\" >$412.89</td>\n",
       "                        <td id=\"T_da4a5352_1eeb_11ea_bda7_d4d2529c4964row2_col3\" class=\"data row2 col3\" >$3.86</td>\n",
       "            </tr>\n",
       "            <tr>\n",
       "                        <th id=\"T_da4a5352_1eeb_11ea_bda7_d4d2529c4964level0_row3\" class=\"row_heading level0 row3\" >20 - 24</th>\n",
       "                        <td id=\"T_da4a5352_1eeb_11ea_bda7_d4d2529c4964row3_col0\" class=\"data row3 col0\" >365</td>\n",
       "                        <td id=\"T_da4a5352_1eeb_11ea_bda7_d4d2529c4964row3_col1\" class=\"data row3 col1\" >$3.05</td>\n",
       "                        <td id=\"T_da4a5352_1eeb_11ea_bda7_d4d2529c4964row3_col2\" class=\"data row3 col2\" >$1,114.06</td>\n",
       "                        <td id=\"T_da4a5352_1eeb_11ea_bda7_d4d2529c4964row3_col3\" class=\"data row3 col3\" >$4.32</td>\n",
       "            </tr>\n",
       "            <tr>\n",
       "                        <th id=\"T_da4a5352_1eeb_11ea_bda7_d4d2529c4964level0_row4\" class=\"row_heading level0 row4\" >25 - 29</th>\n",
       "                        <td id=\"T_da4a5352_1eeb_11ea_bda7_d4d2529c4964row4_col0\" class=\"data row4 col0\" >101</td>\n",
       "                        <td id=\"T_da4a5352_1eeb_11ea_bda7_d4d2529c4964row4_col1\" class=\"data row4 col1\" >$2.90</td>\n",
       "                        <td id=\"T_da4a5352_1eeb_11ea_bda7_d4d2529c4964row4_col2\" class=\"data row4 col2\" >$293.00</td>\n",
       "                        <td id=\"T_da4a5352_1eeb_11ea_bda7_d4d2529c4964row4_col3\" class=\"data row4 col3\" >$3.81</td>\n",
       "            </tr>\n",
       "            <tr>\n",
       "                        <th id=\"T_da4a5352_1eeb_11ea_bda7_d4d2529c4964level0_row5\" class=\"row_heading level0 row5\" >30 - 34</th>\n",
       "                        <td id=\"T_da4a5352_1eeb_11ea_bda7_d4d2529c4964row5_col0\" class=\"data row5 col0\" >73</td>\n",
       "                        <td id=\"T_da4a5352_1eeb_11ea_bda7_d4d2529c4964row5_col1\" class=\"data row5 col1\" >$2.93</td>\n",
       "                        <td id=\"T_da4a5352_1eeb_11ea_bda7_d4d2529c4964row5_col2\" class=\"data row5 col2\" >$214.00</td>\n",
       "                        <td id=\"T_da4a5352_1eeb_11ea_bda7_d4d2529c4964row5_col3\" class=\"data row5 col3\" >$4.12</td>\n",
       "            </tr>\n",
       "            <tr>\n",
       "                        <th id=\"T_da4a5352_1eeb_11ea_bda7_d4d2529c4964level0_row6\" class=\"row_heading level0 row6\" >35 - 39</th>\n",
       "                        <td id=\"T_da4a5352_1eeb_11ea_bda7_d4d2529c4964row6_col0\" class=\"data row6 col0\" >41</td>\n",
       "                        <td id=\"T_da4a5352_1eeb_11ea_bda7_d4d2529c4964row6_col1\" class=\"data row6 col1\" >$3.60</td>\n",
       "                        <td id=\"T_da4a5352_1eeb_11ea_bda7_d4d2529c4964row6_col2\" class=\"data row6 col2\" >$147.67</td>\n",
       "                        <td id=\"T_da4a5352_1eeb_11ea_bda7_d4d2529c4964row6_col3\" class=\"data row6 col3\" >$4.76</td>\n",
       "            </tr>\n",
       "            <tr>\n",
       "                        <th id=\"T_da4a5352_1eeb_11ea_bda7_d4d2529c4964level0_row7\" class=\"row_heading level0 row7\" >Over 40</th>\n",
       "                        <td id=\"T_da4a5352_1eeb_11ea_bda7_d4d2529c4964row7_col0\" class=\"data row7 col0\" >13</td>\n",
       "                        <td id=\"T_da4a5352_1eeb_11ea_bda7_d4d2529c4964row7_col1\" class=\"data row7 col1\" >$2.94</td>\n",
       "                        <td id=\"T_da4a5352_1eeb_11ea_bda7_d4d2529c4964row7_col2\" class=\"data row7 col2\" >$38.24</td>\n",
       "                        <td id=\"T_da4a5352_1eeb_11ea_bda7_d4d2529c4964row7_col3\" class=\"data row7 col3\" >$3.19</td>\n",
       "            </tr>\n",
       "    </tbody></table>"
      ],
      "text/plain": [
       "<pandas.io.formats.style.Styler at 0x1efd565a708>"
      ]
     },
     "execution_count": 21,
     "metadata": {},
     "output_type": "execute_result"
    }
   ],
   "source": [
    "#Bin the purchase_data data frame by age\n",
    "# Count purchases by age\n",
    "purch_countbyage = age_group[\"Purchase ID\"].count()\n",
    "\n",
    "#Run basic calculations to obtain purchase count, avg. purchase price, avg. purchase total per person etc. in the table below\n",
    "# average purchase price\n",
    "purch_price_ave = age_group[\"Price\"].mean()\n",
    "\n",
    "# total purchase value\n",
    "total_purchase_value = age_group[\"Price\"].sum()\n",
    "\n",
    "# average purchase per person\n",
    "purch_per_person_age = total_purchase_value/count_age\n",
    "\n",
    "# Create data frame with obtained values\n",
    "age_demographics = pd.DataFrame({\"Purchase Count\": purch_countbyage,\n",
    "                                 \"Average Purchase Price\": purch_price_ave,\n",
    "                                 \"Total Purchase Value\":total_purchase_value,\n",
    "                                 \"Average Purchase Total per Person\": purch_per_person_age})\n",
    "\n",
    "age_demographics.style.format({\"Average Purchase Price\":\"${:,.2f}\",\n",
    "                               \"Total Purchase Value\":\"${:,.2f}\",\n",
    "                               \"Average Purchase Total per Person\":\"${:,.2f}\"})"
   ]
  },
  {
   "cell_type": "markdown",
   "metadata": {},
   "source": [
    "## Top Spenders"
   ]
  },
  {
   "cell_type": "markdown",
   "metadata": {},
   "source": [
    "* Run basic calculations to obtain the results in the table below\n",
    "\n",
    "\n",
    "* Create a summary data frame to hold the results\n",
    "\n",
    "\n",
    "* Sort the total purchase value column in descending order\n",
    "\n",
    "\n",
    "* Optional: give the displayed data cleaner formatting\n",
    "\n",
    "\n",
    "* Display a preview of the summary data frame\n",
    "\n"
   ]
  },
  {
   "cell_type": "code",
   "execution_count": 22,
   "metadata": {},
   "outputs": [
    {
     "data": {
      "text/html": [
       "<style  type=\"text/css\" >\n",
       "</style><table id=\"T_db151b40_1eeb_11ea_a35b_d4d2529c4964\" ><thead>    <tr>        <th class=\"blank level0\" ></th>        <th class=\"col_heading level0 col0\" >Purchase Count</th>        <th class=\"col_heading level0 col1\" >Average Purchase Price</th>        <th class=\"col_heading level0 col2\" >Total Purchase Value</th>    </tr>    <tr>        <th class=\"index_name level0\" >SN</th>        <th class=\"blank\" ></th>        <th class=\"blank\" ></th>        <th class=\"blank\" ></th>    </tr></thead><tbody>\n",
       "                <tr>\n",
       "                        <th id=\"T_db151b40_1eeb_11ea_a35b_d4d2529c4964level0_row0\" class=\"row_heading level0 row0\" >Lisosia93</th>\n",
       "                        <td id=\"T_db151b40_1eeb_11ea_a35b_d4d2529c4964row0_col0\" class=\"data row0 col0\" >5</td>\n",
       "                        <td id=\"T_db151b40_1eeb_11ea_a35b_d4d2529c4964row0_col1\" class=\"data row0 col1\" >$3.79</td>\n",
       "                        <td id=\"T_db151b40_1eeb_11ea_a35b_d4d2529c4964row0_col2\" class=\"data row0 col2\" >$18.96</td>\n",
       "            </tr>\n",
       "            <tr>\n",
       "                        <th id=\"T_db151b40_1eeb_11ea_a35b_d4d2529c4964level0_row1\" class=\"row_heading level0 row1\" >Idastidru52</th>\n",
       "                        <td id=\"T_db151b40_1eeb_11ea_a35b_d4d2529c4964row1_col0\" class=\"data row1 col0\" >4</td>\n",
       "                        <td id=\"T_db151b40_1eeb_11ea_a35b_d4d2529c4964row1_col1\" class=\"data row1 col1\" >$3.86</td>\n",
       "                        <td id=\"T_db151b40_1eeb_11ea_a35b_d4d2529c4964row1_col2\" class=\"data row1 col2\" >$15.45</td>\n",
       "            </tr>\n",
       "            <tr>\n",
       "                        <th id=\"T_db151b40_1eeb_11ea_a35b_d4d2529c4964level0_row2\" class=\"row_heading level0 row2\" >Chamjask73</th>\n",
       "                        <td id=\"T_db151b40_1eeb_11ea_a35b_d4d2529c4964row2_col0\" class=\"data row2 col0\" >3</td>\n",
       "                        <td id=\"T_db151b40_1eeb_11ea_a35b_d4d2529c4964row2_col1\" class=\"data row2 col1\" >$4.61</td>\n",
       "                        <td id=\"T_db151b40_1eeb_11ea_a35b_d4d2529c4964row2_col2\" class=\"data row2 col2\" >$13.83</td>\n",
       "            </tr>\n",
       "            <tr>\n",
       "                        <th id=\"T_db151b40_1eeb_11ea_a35b_d4d2529c4964level0_row3\" class=\"row_heading level0 row3\" >Iral74</th>\n",
       "                        <td id=\"T_db151b40_1eeb_11ea_a35b_d4d2529c4964row3_col0\" class=\"data row3 col0\" >4</td>\n",
       "                        <td id=\"T_db151b40_1eeb_11ea_a35b_d4d2529c4964row3_col1\" class=\"data row3 col1\" >$3.40</td>\n",
       "                        <td id=\"T_db151b40_1eeb_11ea_a35b_d4d2529c4964row3_col2\" class=\"data row3 col2\" >$13.62</td>\n",
       "            </tr>\n",
       "            <tr>\n",
       "                        <th id=\"T_db151b40_1eeb_11ea_a35b_d4d2529c4964level0_row4\" class=\"row_heading level0 row4\" >Iskadarya95</th>\n",
       "                        <td id=\"T_db151b40_1eeb_11ea_a35b_d4d2529c4964row4_col0\" class=\"data row4 col0\" >3</td>\n",
       "                        <td id=\"T_db151b40_1eeb_11ea_a35b_d4d2529c4964row4_col1\" class=\"data row4 col1\" >$4.37</td>\n",
       "                        <td id=\"T_db151b40_1eeb_11ea_a35b_d4d2529c4964row4_col2\" class=\"data row4 col2\" >$13.10</td>\n",
       "            </tr>\n",
       "            <tr>\n",
       "                        <th id=\"T_db151b40_1eeb_11ea_a35b_d4d2529c4964level0_row5\" class=\"row_heading level0 row5\" >Ilarin91</th>\n",
       "                        <td id=\"T_db151b40_1eeb_11ea_a35b_d4d2529c4964row5_col0\" class=\"data row5 col0\" >3</td>\n",
       "                        <td id=\"T_db151b40_1eeb_11ea_a35b_d4d2529c4964row5_col1\" class=\"data row5 col1\" >$4.23</td>\n",
       "                        <td id=\"T_db151b40_1eeb_11ea_a35b_d4d2529c4964row5_col2\" class=\"data row5 col2\" >$12.70</td>\n",
       "            </tr>\n",
       "            <tr>\n",
       "                        <th id=\"T_db151b40_1eeb_11ea_a35b_d4d2529c4964level0_row6\" class=\"row_heading level0 row6\" >Ialallo29</th>\n",
       "                        <td id=\"T_db151b40_1eeb_11ea_a35b_d4d2529c4964row6_col0\" class=\"data row6 col0\" >3</td>\n",
       "                        <td id=\"T_db151b40_1eeb_11ea_a35b_d4d2529c4964row6_col1\" class=\"data row6 col1\" >$3.95</td>\n",
       "                        <td id=\"T_db151b40_1eeb_11ea_a35b_d4d2529c4964row6_col2\" class=\"data row6 col2\" >$11.84</td>\n",
       "            </tr>\n",
       "            <tr>\n",
       "                        <th id=\"T_db151b40_1eeb_11ea_a35b_d4d2529c4964level0_row7\" class=\"row_heading level0 row7\" >Tyidaim51</th>\n",
       "                        <td id=\"T_db151b40_1eeb_11ea_a35b_d4d2529c4964row7_col0\" class=\"data row7 col0\" >3</td>\n",
       "                        <td id=\"T_db151b40_1eeb_11ea_a35b_d4d2529c4964row7_col1\" class=\"data row7 col1\" >$3.94</td>\n",
       "                        <td id=\"T_db151b40_1eeb_11ea_a35b_d4d2529c4964row7_col2\" class=\"data row7 col2\" >$11.83</td>\n",
       "            </tr>\n",
       "            <tr>\n",
       "                        <th id=\"T_db151b40_1eeb_11ea_a35b_d4d2529c4964level0_row8\" class=\"row_heading level0 row8\" >Lassilsala30</th>\n",
       "                        <td id=\"T_db151b40_1eeb_11ea_a35b_d4d2529c4964row8_col0\" class=\"data row8 col0\" >3</td>\n",
       "                        <td id=\"T_db151b40_1eeb_11ea_a35b_d4d2529c4964row8_col1\" class=\"data row8 col1\" >$3.84</td>\n",
       "                        <td id=\"T_db151b40_1eeb_11ea_a35b_d4d2529c4964row8_col2\" class=\"data row8 col2\" >$11.51</td>\n",
       "            </tr>\n",
       "            <tr>\n",
       "                        <th id=\"T_db151b40_1eeb_11ea_a35b_d4d2529c4964level0_row9\" class=\"row_heading level0 row9\" >Chadolyla44</th>\n",
       "                        <td id=\"T_db151b40_1eeb_11ea_a35b_d4d2529c4964row9_col0\" class=\"data row9 col0\" >3</td>\n",
       "                        <td id=\"T_db151b40_1eeb_11ea_a35b_d4d2529c4964row9_col1\" class=\"data row9 col1\" >$3.82</td>\n",
       "                        <td id=\"T_db151b40_1eeb_11ea_a35b_d4d2529c4964row9_col2\" class=\"data row9 col2\" >$11.46</td>\n",
       "            </tr>\n",
       "    </tbody></table>"
      ],
      "text/plain": [
       "<pandas.io.formats.style.Styler at 0x1efd5799708>"
      ]
     },
     "execution_count": 22,
     "metadata": {},
     "output_type": "execute_result"
    }
   ],
   "source": [
    "#Run basic calculations to obtain the results in the table below\n",
    "#Use Screen Names to group the data\n",
    "most_spender = pymoli_df.groupby(\"SN\")\n",
    "\n",
    "# count\n",
    "count_spender_purch = most_spender[\"Purchase ID\"].count()\n",
    "\n",
    "# average purchase by name \n",
    "purch_price_spender_avg = most_spender[\"Price\"].mean()\n",
    "\n",
    "# purchase total \n",
    "purch_total_spender = most_spender[\"Price\"].sum()\n",
    "\n",
    "# Create a summary data frame to hold the results\n",
    "most_spenders = pd.DataFrame({\"Purchase Count\": count_spender_purch,\n",
    "                             \"Average Purchase Price\": purch_price_spender_avg,\n",
    "                             \"Total Purchase Value\":purch_total_spender})\n",
    "\n",
    "# Sort the total purchase value column in descending order\n",
    "formatted_spenders = most_spenders.sort_values([\"Total Purchase Value\"], ascending=False).head(10)\n",
    "\n",
    "# Display a preview of the summary data frame\n",
    "formatted_spenders.style.format({\"Average Purchase Total\":\"${:,.2f}\",\n",
    "                                 \"Average Purchase Price\":\"${:,.2f}\", \n",
    "                                 \"Total Purchase Value\":\"${:,.2f}\"})"
   ]
  },
  {
   "cell_type": "markdown",
   "metadata": {},
   "source": [
    "## Most Popular Items"
   ]
  },
  {
   "cell_type": "markdown",
   "metadata": {},
   "source": [
    "* Retrieve the Item ID, Item Name, and Item Price columns\n",
    "\n",
    "\n",
    "* Group by Item ID and Item Name. Perform calculations to obtain purchase count, item price, and total purchase value\n",
    "\n",
    "\n",
    "* Create a summary data frame to hold the results\n",
    "\n",
    "\n",
    "* Sort the purchase count column in descending order\n",
    "\n",
    "\n",
    "* Optional: give the displayed data cleaner formatting\n",
    "\n",
    "\n",
    "* Display a preview of the summary data frame\n",
    "\n"
   ]
  },
  {
   "cell_type": "code",
   "execution_count": 23,
   "metadata": {},
   "outputs": [
    {
     "data": {
      "text/html": [
       "<style  type=\"text/css\" >\n",
       "</style><table id=\"T_dbde52cc_1eeb_11ea_9875_d4d2529c4964\" ><thead>    <tr>        <th class=\"blank\" ></th>        <th class=\"blank level0\" ></th>        <th class=\"col_heading level0 col0\" >Purchase Count</th>        <th class=\"col_heading level0 col1\" >Item Price</th>        <th class=\"col_heading level0 col2\" >Total Purchase Value</th>    </tr>    <tr>        <th class=\"index_name level0\" >Item ID</th>        <th class=\"index_name level1\" >Item Name</th>        <th class=\"blank\" ></th>        <th class=\"blank\" ></th>        <th class=\"blank\" ></th>    </tr></thead><tbody>\n",
       "                <tr>\n",
       "                        <th id=\"T_dbde52cc_1eeb_11ea_9875_d4d2529c4964level0_row0\" class=\"row_heading level0 row0\" >178</th>\n",
       "                        <th id=\"T_dbde52cc_1eeb_11ea_9875_d4d2529c4964level1_row0\" class=\"row_heading level1 row0\" >Oathbreaker, Last Hope of the Breaking Storm</th>\n",
       "                        <td id=\"T_dbde52cc_1eeb_11ea_9875_d4d2529c4964row0_col0\" class=\"data row0 col0\" >12</td>\n",
       "                        <td id=\"T_dbde52cc_1eeb_11ea_9875_d4d2529c4964row0_col1\" class=\"data row0 col1\" >$4.23</td>\n",
       "                        <td id=\"T_dbde52cc_1eeb_11ea_9875_d4d2529c4964row0_col2\" class=\"data row0 col2\" >$50.76</td>\n",
       "            </tr>\n",
       "            <tr>\n",
       "                        <th id=\"T_dbde52cc_1eeb_11ea_9875_d4d2529c4964level0_row1\" class=\"row_heading level0 row1\" >145</th>\n",
       "                        <th id=\"T_dbde52cc_1eeb_11ea_9875_d4d2529c4964level1_row1\" class=\"row_heading level1 row1\" >Fiery Glass Crusader</th>\n",
       "                        <td id=\"T_dbde52cc_1eeb_11ea_9875_d4d2529c4964row1_col0\" class=\"data row1 col0\" >9</td>\n",
       "                        <td id=\"T_dbde52cc_1eeb_11ea_9875_d4d2529c4964row1_col1\" class=\"data row1 col1\" >$4.58</td>\n",
       "                        <td id=\"T_dbde52cc_1eeb_11ea_9875_d4d2529c4964row1_col2\" class=\"data row1 col2\" >$41.22</td>\n",
       "            </tr>\n",
       "            <tr>\n",
       "                        <th id=\"T_dbde52cc_1eeb_11ea_9875_d4d2529c4964level0_row2\" class=\"row_heading level0 row2\" >108</th>\n",
       "                        <th id=\"T_dbde52cc_1eeb_11ea_9875_d4d2529c4964level1_row2\" class=\"row_heading level1 row2\" >Extraction, Quickblade Of Trembling Hands</th>\n",
       "                        <td id=\"T_dbde52cc_1eeb_11ea_9875_d4d2529c4964row2_col0\" class=\"data row2 col0\" >9</td>\n",
       "                        <td id=\"T_dbde52cc_1eeb_11ea_9875_d4d2529c4964row2_col1\" class=\"data row2 col1\" >$3.53</td>\n",
       "                        <td id=\"T_dbde52cc_1eeb_11ea_9875_d4d2529c4964row2_col2\" class=\"data row2 col2\" >$31.77</td>\n",
       "            </tr>\n",
       "            <tr>\n",
       "                        <th id=\"T_dbde52cc_1eeb_11ea_9875_d4d2529c4964level0_row3\" class=\"row_heading level0 row3\" >82</th>\n",
       "                        <th id=\"T_dbde52cc_1eeb_11ea_9875_d4d2529c4964level1_row3\" class=\"row_heading level1 row3\" >Nirvana</th>\n",
       "                        <td id=\"T_dbde52cc_1eeb_11ea_9875_d4d2529c4964row3_col0\" class=\"data row3 col0\" >9</td>\n",
       "                        <td id=\"T_dbde52cc_1eeb_11ea_9875_d4d2529c4964row3_col1\" class=\"data row3 col1\" >$4.90</td>\n",
       "                        <td id=\"T_dbde52cc_1eeb_11ea_9875_d4d2529c4964row3_col2\" class=\"data row3 col2\" >$44.10</td>\n",
       "            </tr>\n",
       "            <tr>\n",
       "                        <th id=\"T_dbde52cc_1eeb_11ea_9875_d4d2529c4964level0_row4\" class=\"row_heading level0 row4\" >19</th>\n",
       "                        <th id=\"T_dbde52cc_1eeb_11ea_9875_d4d2529c4964level1_row4\" class=\"row_heading level1 row4\" >Pursuit, Cudgel of Necromancy</th>\n",
       "                        <td id=\"T_dbde52cc_1eeb_11ea_9875_d4d2529c4964row4_col0\" class=\"data row4 col0\" >8</td>\n",
       "                        <td id=\"T_dbde52cc_1eeb_11ea_9875_d4d2529c4964row4_col1\" class=\"data row4 col1\" >$1.02</td>\n",
       "                        <td id=\"T_dbde52cc_1eeb_11ea_9875_d4d2529c4964row4_col2\" class=\"data row4 col2\" >$8.16</td>\n",
       "            </tr>\n",
       "    </tbody></table>"
      ],
      "text/plain": [
       "<pandas.io.formats.style.Styler at 0x1efd57b1f48>"
      ]
     },
     "execution_count": 23,
     "metadata": {},
     "output_type": "execute_result"
    }
   ],
   "source": [
    "# data frame with items related information \n",
    "item_s = pymoli_df[[\"Item ID\", \"Item Name\", \"Price\"]]\n",
    "\n",
    "# Group by Item ID and Item Name\n",
    "item_group = item_s.groupby([\"Item ID\",\"Item Name\"])\n",
    "\n",
    "# Perform calculations to obtain purchase count, item price, and total purchase value\n",
    "purch_item = item_group[\"Price\"].count()\n",
    "purch_value = (item_group[\"Price\"].sum()) \n",
    "item_price = purch_value/purch_item\n",
    "\n",
    "# Create a summary data frame to hold the results\n",
    "most_popular_items = pd.DataFrame({\"Purchase Count\": purch_item, \n",
    "                                   \"Item Price\": item_price,\n",
    "                                   \"Total Purchase Value\":purch_value})\n",
    "\n",
    "# Sort the purchase count column in descending order\n",
    "popular_items = most_popular_items.sort_values([\"Purchase Count\"], ascending=False).head()\n",
    "\n",
    "# Display a preview of the summary data frame\n",
    "popular_items.style.format({\"Item Price\":\"${:,.2f}\",\n",
    "                                \"Total Purchase Value\":\"${:,.2f}\"})"
   ]
  },
  {
   "cell_type": "markdown",
   "metadata": {},
   "source": [
    "## Most Profitable Items"
   ]
  },
  {
   "cell_type": "markdown",
   "metadata": {},
   "source": [
    "* Sort the above table by total purchase value in descending order\n",
    "\n",
    "\n",
    "* Optional: give the displayed data cleaner formatting\n",
    "\n",
    "\n",
    "* Display a preview of the data frame\n",
    "\n"
   ]
  },
  {
   "cell_type": "code",
   "execution_count": 24,
   "metadata": {
    "scrolled": true
   },
   "outputs": [
    {
     "data": {
      "text/html": [
       "<style  type=\"text/css\" >\n",
       "</style><table id=\"T_dcc41162_1eeb_11ea_af6c_d4d2529c4964\" ><thead>    <tr>        <th class=\"blank\" ></th>        <th class=\"blank level0\" ></th>        <th class=\"col_heading level0 col0\" >Purchase Count</th>        <th class=\"col_heading level0 col1\" >Item Price</th>        <th class=\"col_heading level0 col2\" >Total Purchase Value</th>    </tr>    <tr>        <th class=\"index_name level0\" >Item ID</th>        <th class=\"index_name level1\" >Item Name</th>        <th class=\"blank\" ></th>        <th class=\"blank\" ></th>        <th class=\"blank\" ></th>    </tr></thead><tbody>\n",
       "                <tr>\n",
       "                        <th id=\"T_dcc41162_1eeb_11ea_af6c_d4d2529c4964level0_row0\" class=\"row_heading level0 row0\" >178</th>\n",
       "                        <th id=\"T_dcc41162_1eeb_11ea_af6c_d4d2529c4964level1_row0\" class=\"row_heading level1 row0\" >Oathbreaker, Last Hope of the Breaking Storm</th>\n",
       "                        <td id=\"T_dcc41162_1eeb_11ea_af6c_d4d2529c4964row0_col0\" class=\"data row0 col0\" >12</td>\n",
       "                        <td id=\"T_dcc41162_1eeb_11ea_af6c_d4d2529c4964row0_col1\" class=\"data row0 col1\" >$4.23</td>\n",
       "                        <td id=\"T_dcc41162_1eeb_11ea_af6c_d4d2529c4964row0_col2\" class=\"data row0 col2\" >$50.76</td>\n",
       "            </tr>\n",
       "            <tr>\n",
       "                        <th id=\"T_dcc41162_1eeb_11ea_af6c_d4d2529c4964level0_row1\" class=\"row_heading level0 row1\" >82</th>\n",
       "                        <th id=\"T_dcc41162_1eeb_11ea_af6c_d4d2529c4964level1_row1\" class=\"row_heading level1 row1\" >Nirvana</th>\n",
       "                        <td id=\"T_dcc41162_1eeb_11ea_af6c_d4d2529c4964row1_col0\" class=\"data row1 col0\" >9</td>\n",
       "                        <td id=\"T_dcc41162_1eeb_11ea_af6c_d4d2529c4964row1_col1\" class=\"data row1 col1\" >$4.90</td>\n",
       "                        <td id=\"T_dcc41162_1eeb_11ea_af6c_d4d2529c4964row1_col2\" class=\"data row1 col2\" >$44.10</td>\n",
       "            </tr>\n",
       "            <tr>\n",
       "                        <th id=\"T_dcc41162_1eeb_11ea_af6c_d4d2529c4964level0_row2\" class=\"row_heading level0 row2\" >145</th>\n",
       "                        <th id=\"T_dcc41162_1eeb_11ea_af6c_d4d2529c4964level1_row2\" class=\"row_heading level1 row2\" >Fiery Glass Crusader</th>\n",
       "                        <td id=\"T_dcc41162_1eeb_11ea_af6c_d4d2529c4964row2_col0\" class=\"data row2 col0\" >9</td>\n",
       "                        <td id=\"T_dcc41162_1eeb_11ea_af6c_d4d2529c4964row2_col1\" class=\"data row2 col1\" >$4.58</td>\n",
       "                        <td id=\"T_dcc41162_1eeb_11ea_af6c_d4d2529c4964row2_col2\" class=\"data row2 col2\" >$41.22</td>\n",
       "            </tr>\n",
       "            <tr>\n",
       "                        <th id=\"T_dcc41162_1eeb_11ea_af6c_d4d2529c4964level0_row3\" class=\"row_heading level0 row3\" >92</th>\n",
       "                        <th id=\"T_dcc41162_1eeb_11ea_af6c_d4d2529c4964level1_row3\" class=\"row_heading level1 row3\" >Final Critic</th>\n",
       "                        <td id=\"T_dcc41162_1eeb_11ea_af6c_d4d2529c4964row3_col0\" class=\"data row3 col0\" >8</td>\n",
       "                        <td id=\"T_dcc41162_1eeb_11ea_af6c_d4d2529c4964row3_col1\" class=\"data row3 col1\" >$4.88</td>\n",
       "                        <td id=\"T_dcc41162_1eeb_11ea_af6c_d4d2529c4964row3_col2\" class=\"data row3 col2\" >$39.04</td>\n",
       "            </tr>\n",
       "            <tr>\n",
       "                        <th id=\"T_dcc41162_1eeb_11ea_af6c_d4d2529c4964level0_row4\" class=\"row_heading level0 row4\" >103</th>\n",
       "                        <th id=\"T_dcc41162_1eeb_11ea_af6c_d4d2529c4964level1_row4\" class=\"row_heading level1 row4\" >Singed Scalpel</th>\n",
       "                        <td id=\"T_dcc41162_1eeb_11ea_af6c_d4d2529c4964row4_col0\" class=\"data row4 col0\" >8</td>\n",
       "                        <td id=\"T_dcc41162_1eeb_11ea_af6c_d4d2529c4964row4_col1\" class=\"data row4 col1\" >$4.35</td>\n",
       "                        <td id=\"T_dcc41162_1eeb_11ea_af6c_d4d2529c4964row4_col2\" class=\"data row4 col2\" >$34.80</td>\n",
       "            </tr>\n",
       "    </tbody></table>"
      ],
      "text/plain": [
       "<pandas.io.formats.style.Styler at 0x1efd57e0608>"
      ]
     },
     "execution_count": 24,
     "metadata": {},
     "output_type": "execute_result"
    }
   ],
   "source": [
    "# Sort the above table by total purchase value in descending order\n",
    "popular_items = most_popular_items.sort_values([\"Total Purchase Value\"],\n",
    "                                                   ascending=False).head()\n",
    "# Display a preview of the data frame\n",
    "popular_items.style.format({\"Item Price\":\"${:,.2f}\",\n",
    "                                \"Total Purchase Value\":\"${:,.2f}\"})"
   ]
  },
  {
   "cell_type": "code",
   "execution_count": null,
   "metadata": {},
   "outputs": [],
   "source": []
  },
  {
   "cell_type": "code",
   "execution_count": null,
   "metadata": {},
   "outputs": [],
   "source": []
  }
 ],
 "metadata": {
  "anaconda-cloud": {},
  "kernel_info": {
   "name": "python3"
  },
  "kernelspec": {
   "display_name": "Python 3",
   "language": "python",
   "name": "python3"
  },
  "language_info": {
   "codemirror_mode": {
    "name": "ipython",
    "version": 3
   },
   "file_extension": ".py",
   "mimetype": "text/x-python",
   "name": "python",
   "nbconvert_exporter": "python",
   "pygments_lexer": "ipython3",
   "version": "3.7.4"
  },
  "latex_envs": {
   "LaTeX_envs_menu_present": true,
   "autoclose": false,
   "autocomplete": true,
   "bibliofile": "biblio.bib",
   "cite_by": "apalike",
   "current_citInitial": 1,
   "eqLabelWithNumbers": true,
   "eqNumInitial": 1,
   "hotkeys": {
    "equation": "Ctrl-E",
    "itemize": "Ctrl-I"
   },
   "labels_anchors": false,
   "latex_user_defs": false,
   "report_style_numbering": false,
   "user_envs_cfg": false
  },
  "nteract": {
   "version": "0.2.0"
  }
 },
 "nbformat": 4,
 "nbformat_minor": 4
}
